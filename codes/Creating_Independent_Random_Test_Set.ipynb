{
 "cells": [
  {
   "cell_type": "code",
   "execution_count": null,
   "metadata": {},
   "outputs": [],
   "source": [
    "import random\n",
    "import pandas as pd"
   ]
  },
  {
   "cell_type": "code",
   "execution_count": null,
   "metadata": {},
   "outputs": [],
   "source": [
    "def independent_test_set_creation(df):\n",
    "    df_duplicates = list(df.duplicated())\n",
    "    test_size = df.shape[0] // 10\n",
    "    uniques = []\n",
    "    duplicates = []\n",
    "    for i in range(len(df_duplicates)):\n",
    "        if df_duplicates[i] == False:\n",
    "            uniques.append(i)\n",
    "        if df_duplicates[i] == True:\n",
    "            duplicates.append(i)\n",
    "    total = uniques + duplicates\n",
    "    test = []\n",
    "    count = 0\n",
    "    while count != test_size:\n",
    "        element = random.randint(0, len(total))\n",
    "        if element not in test:\n",
    "            test.append(element)\n",
    "            count +=1\n",
    "    train = list(set(total) - set(test))\n",
    "    return train, test"
   ]
  },
  {
   "cell_type": "code",
   "execution_count": null,
   "metadata": {},
   "outputs": [],
   "source": [
    "df = pd.read_csv(\"Dataset.csv\")\n",
    "df = df.iloc[:, :4]\n",
    "df.head()"
   ]
  },
  {
   "cell_type": "code",
   "execution_count": null,
   "metadata": {},
   "outputs": [],
   "source": [
    "train, test = independent_test_set_creation(df)"
   ]
  },
  {
   "cell_type": "code",
   "execution_count": null,
   "metadata": {},
   "outputs": [],
   "source": [
    "print(\"Train: \", train)"
   ]
  },
  {
   "cell_type": "code",
   "execution_count": null,
   "metadata": {},
   "outputs": [],
   "source": [
    "print(\"Test: \", test)"
   ]
  }
 ],
 "metadata": {
  "kernelspec": {
   "display_name": "Python 3",
   "language": "python",
   "name": "python3"
  },
  "language_info": {
   "codemirror_mode": {
    "name": "ipython",
    "version": 3
   },
   "file_extension": ".py",
   "mimetype": "text/x-python",
   "name": "python",
   "nbconvert_exporter": "python",
   "pygments_lexer": "ipython3",
   "version": "3.8.5"
  }
 },
 "nbformat": 4,
 "nbformat_minor": 4
}
