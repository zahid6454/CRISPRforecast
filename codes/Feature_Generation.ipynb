{
 "cells": [
  {
   "cell_type": "markdown",
   "metadata": {},
   "source": [
    "# Librarires ##"
   ]
  },
  {
   "cell_type": "code",
   "execution_count": null,
   "metadata": {},
   "outputs": [],
   "source": [
    "import re\n",
    "import string\n",
    "import numpy as np\n",
    "import pandas as pd\n",
    "import matplotlib.pyplot as plt"
   ]
  },
  {
   "cell_type": "markdown",
   "metadata": {},
   "source": [
    "# Loading the Original Dataset ##"
   ]
  },
  {
   "cell_type": "code",
   "execution_count": null,
   "metadata": {},
   "outputs": [],
   "source": [
    "df = pd.read_csv(\"Original Dataset.csv\", \n",
    "                names = ['30_mer_Sequence', 'Target_Gene', 'Percent_Peptide', 'Amino_Acid_Cut_Position', 'Score_Drug_Gene_Rank',\n",
    "                         'Score_Drug_Gene_Threshold', 'Drug', 'Predictions'])\n",
    "df.head()"
   ]
  },
  {
   "cell_type": "code",
   "execution_count": null,
   "metadata": {},
   "outputs": [],
   "source": [
    "df = df.iloc[1:,:]\n",
    "df = pd.DataFrame({'Predictions': df.iloc[0:,7], '30_mer_Sequence': df.iloc[0:,0], 'Percent_Peptide': df.iloc[0:,2], 'Amino_Acid_Cut_Position': df.iloc[0:,3]}) \n",
    "df.head(10)"
   ]
  },
  {
   "cell_type": "code",
   "execution_count": null,
   "metadata": {},
   "outputs": [],
   "source": [
    "sequence_length = len(df.iloc[0,1])\n",
    "print(sequence_length)"
   ]
  },
  {
   "cell_type": "markdown",
   "metadata": {},
   "source": [
    "# Feature Creation 120\n",
    "For each index of sequence checking whether it contains certain neucliotide"
   ]
  },
  {
   "cell_type": "code",
   "execution_count": null,
   "metadata": {},
   "outputs": [],
   "source": [
    "single_neucliotides = ['A', 'C', 'G', 'T']\n",
    "\n",
    "for s_neucliotide in single_neucliotides:\n",
    "    for i in range(sequence_length):\n",
    "        feature_name = 'Index' + str(i) + '_' + s_neucliotide\n",
    "        values = []\n",
    "        for j in range(df.shape[0]):\n",
    "            sequence = df.iloc[j,1]\n",
    "            if sequence[i] == s_neucliotide:\n",
    "                values.append(1)\n",
    "            else:\n",
    "                values.append(0)\n",
    "        df[feature_name] = values"
   ]
  },
  {
   "cell_type": "code",
   "execution_count": null,
   "metadata": {},
   "outputs": [],
   "source": [
    "df.head()"
   ]
  },
  {
   "cell_type": "markdown",
   "metadata": {},
   "source": [
    "# Feature Creation 464\n",
    "For each two index of sequence checking whether it contains certain neucliotides"
   ]
  },
  {
   "cell_type": "code",
   "execution_count": null,
   "metadata": {},
   "outputs": [],
   "source": [
    "di_neucliotides = [\"AA\", \"AC\", \"AG\", \"AT\", \"CA\", \"CC\", \"CG\", \"CT\", \"GA\", \"GC\", \"GG\", \"GT\", \"TA\", \"TC\", \"TG\", \"TT\"]\n",
    "\n",
    "for di_neucliotide in di_neucliotides:\n",
    "    for i in range(sequence_length-1):\n",
    "        feature_name = 'Index' + str(i) + \",\" + str(i+1) + '_' + di_neucliotide\n",
    "        values = []\n",
    "        neucliotides = list(di_neucliotide)\n",
    "        for j in range(df.shape[0]):\n",
    "            sequence = df.iloc[j,1]\n",
    "            if sequence[i] == neucliotides[0] and sequence[i+1] == neucliotides[1]:\n",
    "                values.append(1)\n",
    "            else:\n",
    "                values.append(0)\n",
    "        df[feature_name] = values"
   ]
  },
  {
   "cell_type": "code",
   "execution_count": null,
   "metadata": {},
   "outputs": [],
   "source": [
    "df.head()"
   ]
  },
  {
   "cell_type": "markdown",
   "metadata": {},
   "source": [
    "# Feature Creation 1792\n",
    "For each three index of sequence checking whether it contains certain neucliotides"
   ]
  },
  {
   "cell_type": "code",
   "execution_count": null,
   "metadata": {},
   "outputs": [],
   "source": [
    "tri_neucliotides = [\"AAA\", \"AAC\", \"AAG\", \"AAT\", \"ACA\", \"ACC\", \"ACG\", \"ACT\", \"AGA\", \"AGC\", \"AGG\", \"AGT\", \"ATA\", \"ATC\", \"ATG\", \"ATT\", \"CAA\", \n",
    "                    \"CAC\", \"CAG\", \"CAT\", \"CCA\", \"CCC\", \"CCG\", \"CCT\", \"CGA\", \"CGC\",\"CGG\", \"CGT\", \"CTA\", \"CTC\", \"CTG\", \"CTT\", \"GAA\", \"GAC\", \"GAG\",\n",
    "                     \"GAT\", \"GCA\", \"GCC\", \"GCG\", \"GCT\", \"GGA\", \"GGC\", \"GGG\", \"GGT\", \"GTA\", \"GTC\", \"GTG\", \"GTT\", \"TAA\", \"TAC\", \"TAG\", \"TAT\",\n",
    "                     \"TCA\", \"TCC\", \"TCG\", \"TCT\", \"TGA\", \"TGC\", \"TGG\", \"TGT\", \"TTA\", \"TTC\", \"TTG\", \"TTT\"]\n",
    "\n",
    "for tri_neucliotide in tri_neucliotides:\n",
    "    for i in range(sequence_length-2):\n",
    "        feature_name = 'Index' + str(i) + \",\" + str(i+1) + \",\" + str(i+2) + '_' + tri_neucliotide\n",
    "        values = []\n",
    "        neucliotides = list(tri_neucliotide)\n",
    "        for j in range(df.shape[0]):\n",
    "            sequence = df.iloc[j,1]\n",
    "            if sequence[i] == neucliotides[0] and sequence[i+1] == neucliotides[1] and sequence[i+2] == neucliotides[2]:\n",
    "                values.append(1)\n",
    "            else:\n",
    "                values.append(0)\n",
    "        df[feature_name] = values"
   ]
  },
  {
   "cell_type": "code",
   "execution_count": null,
   "metadata": {},
   "outputs": [],
   "source": [
    "df.head()"
   ]
  },
  {
   "cell_type": "markdown",
   "metadata": {},
   "source": [
    "# Feature Creation 6912\n",
    "For each four index of sequence checking whether it contains certain neucliotides"
   ]
  },
  {
   "cell_type": "code",
   "execution_count": null,
   "metadata": {},
   "outputs": [],
   "source": [
    "tetra_neucliotides = [\"AAAA\", \"AAAC\", \"AAAG\", \"AAAT\", \"AACA\", \"AACC\", \"AACG\", \"AACT\", \"AAGA\", \"AAGC\", \"AAGG\", \"AAGT\", \"AATA\", \"AATC\", \"AATG\",\n",
    "                        \"AATT\", \"ACAA\", \"ACAC\", \"ACAG\", \"ACAT\", \"ACCA\", \"ACCC\", \"ACCG\", \"ACCT\", \"ACGA\", \"ACGC\", \"ACGG\", \"ACGT\", \"ACTA\", \"ACTC\",\n",
    "                        \"ACTG\", \"ACTT\", \"AGAA\", \"AGAC\", \"AGAG\", \"AGAT\", \"AGCA\", \"AGCC\", \"AGCG\", \"AGCT\", \"AGGA\", \"AGGC\", \"AGGG\", \"AGGT\", \"AGTA\",\n",
    "                        \"AGTC\", \"AGTG\", \"AGTT\", \"ATAA\", \"ATAC\", \"ATAG\", \"ATAT\", \"ATCA\", \"ATCC\", \"ATCG\", \"ATCT\", \"ATGA\", \"ATGC\", \"ATGG\", \"ATGT\",\n",
    "                        \"ATTA\", \"ATTC\", \"ATTG\", \"ATTT\", \"CAAA\", \"CAAC\", \"CAAG\", \"CAAT\", \"CACA\", \"CACC\", \"CACG\", \"CACT\", \"CAGA\", \"CAGC\", \"CAGG\",\n",
    "                        \"CAGT\", \"CATA\", \"CATC\", \"CATG\", \"CATT\", \"CCAA\", \"CCAC\", \"CCAG\", \"CCAT\", \"CCCA\", \"CCCC\", \"CCCG\", \"CCCT\", \"CCGA\", \"CCGC\",\n",
    "                        \"CCGG\",\"CCGT\", \"CCTA\", \"CCTC\", \"CCTG\", \"CCTT\", \"CGAA\", \"CGAC\", \"CGAG\", \"CGAT\", \"CGCA\", \"CGCC\", \"CGCG\", \"CGCT\", \"CGGA\",\n",
    "                        \"CGGC\", \"CGGG\", \"CGGT\", \"CGTA\", \"CGTC\", \"CGTG\", \"CGTT\", \"CTAA\", \"CTAC\", \"CTAG\", \"CTAT\", \"CTCA\", \"CTCC\", \"CTCG\", \"CTCT\",\n",
    "                        \"CTGA\", \"CTGC\", \"CTGG\", \"CTGT\", \"CTTA\", \"CTTC\", \"CTTG\", \"CTTT\", \"GAAA\", \"GAAC\", \"GAAG\", \"GAAT\", \"GACA\", \"GACC\", \"GACG\",\n",
    "                        \"GACT\", \"GAGA\", \"GAGC\", \"GAGG\", \"GAGT\", \"GATA\", \"GATC\", \"GATG\", \"GATT\", \"GCAA\", \"GCAC\", \"GCAG\", \"GCAT\", \"GCCA\", \"GCCC\",\n",
    "                        \"GCCG\", \"GCCT\", \"GCGA\", \"GCGC\", \"GCGG\", \"GCGT\", \"GCTA\", \"GCTC\", \"GCTG\", \"GCTT\", \"GGAA\", \"GGAC\", \"GGAG\", \"GGAT\", \"GGCA\",\n",
    "                        \"GGCC\", \"GGCG\", \"GGCT\", \"GGGA\", \"GGGC\", \"GGGG\", \"GGGT\", \"GGTA\", \"GGTC\", \"GGTG\", \"GGTT\", \"GTAA\", \"GTAC\", \"GTAG\", \"GTAT\",\n",
    "                        \"GTCA\", \"GTCC\", \"GTCG\", \"GTCT\", \"GTGA\", \"GTGC\", \"GTGG\", \"GTGT\", \"GTTA\", \"GTTC\", \"GTTG\", \"GTTT\", \"TAAA\", \"TAAC\", \"TAAG\",\n",
    "                        \"TAAT\", \"TACA\", \"TACC\", \"TACG\", \"TACT\", \"TAGA\", \"TAGC\", \"TAGG\", \"TAGT\", \"TATA\", \"TATC\", \"TATG\", \"TATT\", \"TCAA\", \"TCAC\", \n",
    "                        \"TCAG\", \"TCAT\", \"TCCA\", \"TCCC\", \"TCCG\", \"TCCT\", \"TCGA\", \"TCGC\", \"TCGG\", \"TCGT\", \"TCTA\", \"TCTC\", \"TCTG\", \"TCTT\", \"TGAA\",\n",
    "                         \"TGAC\", \"TGAG\", \"TGAT\", \"TGCA\", \"TGCC\", \"TGCG\", \"TGCT\", \"TGGA\", \"TGGC\", \"TGGG\", \"TGGT\", \"TGTA\", \"TGTC\", \"TGTG\", \"TGTT\",\n",
    "                        \"TTAA\", \"TTAC\", \"TTAG\", \"TTAT\", \"TTCA\", \"TTCC\", \"TTCG\", \"TTCT\", \"TTGA\", \"TTGC\", \"TTGG\", \"TTGT\", \"TTTA\", \"TTTC\", \"TTTG\",\n",
    "                        \"TTTT\"]\n",
    "\n",
    "for tetra_neucliotide in tetra_neucliotides:\n",
    "    for i in range(sequence_length-3):\n",
    "        feature_name = 'Index' + str(i) + \",\" + str(i+1) + \",\" + str(i+2) + \",\" + str(i+3) + '_' + tetra_neucliotide\n",
    "        values = []\n",
    "        neucliotides = list(tetra_neucliotide)\n",
    "        for j in range(df.shape[0]):\n",
    "            sequence = df.iloc[j,1]\n",
    "            if sequence[i] == neucliotides[0] and sequence[i+1] == neucliotides[1] and sequence[i+2] == neucliotides[2] and sequence[i+3] == neucliotides[3]:\n",
    "                values.append(1)\n",
    "            else:\n",
    "                values.append(0)\n",
    "        df[feature_name] = values"
   ]
  },
  {
   "cell_type": "code",
   "execution_count": null,
   "metadata": {},
   "outputs": [],
   "source": [
    "df.head()"
   ]
  },
  {
   "cell_type": "markdown",
   "metadata": {},
   "source": [
    "# Feature Creation 4\n",
    "From each sgRNA Sequence find occurrence of individual neucliotide"
   ]
  },
  {
   "cell_type": "code",
   "execution_count": null,
   "metadata": {},
   "outputs": [],
   "source": [
    "single_neucliotides = ['A', 'C', 'G', 'T']\n",
    "\n",
    "for s_neucliotide in single_neucliotides:\n",
    "    feature_name = s_neucliotide + '_Count'\n",
    "    values = []\n",
    "    for j in range(df.shape[0]):\n",
    "        sequence = df.iloc[j,1]\n",
    "        count = sequence.count(s_neucliotide)\n",
    "        values.append(count)\n",
    "    df[feature_name] = values"
   ]
  },
  {
   "cell_type": "code",
   "execution_count": null,
   "metadata": {},
   "outputs": [],
   "source": [
    "df.head()"
   ]
  },
  {
   "cell_type": "markdown",
   "metadata": {},
   "source": [
    "# Feature Creation 16\n",
    "From each sgRNA Sequence find occurrence of individual di_neucliotides"
   ]
  },
  {
   "cell_type": "code",
   "execution_count": null,
   "metadata": {},
   "outputs": [],
   "source": [
    "di_neucliotides = [\"AA\", \"AC\", \"AG\", \"AT\", \"CA\", \"CC\", \"CG\", \"CT\", \"GA\", \"GC\", \"GG\", \"GT\", \"TA\", \"TC\", \"TG\", \"TT\"]\n",
    "\n",
    "for di_neucliotide in di_neucliotides:\n",
    "    feature_name = di_neucliotide + '_Count'\n",
    "    values = []\n",
    "    for j in range(df.shape[0]):\n",
    "        sequence = df.iloc[j,1]\n",
    "        count = sequence.count(di_neucliotide)\n",
    "        values.append(count)\n",
    "    df[feature_name] = values"
   ]
  },
  {
   "cell_type": "code",
   "execution_count": null,
   "metadata": {},
   "outputs": [],
   "source": [
    "df.head()"
   ]
  },
  {
   "cell_type": "markdown",
   "metadata": {},
   "source": [
    "# Feature Creation 64\n",
    "From each sgRNA Sequence find occurrence of individual tri_neucliotides"
   ]
  },
  {
   "cell_type": "code",
   "execution_count": null,
   "metadata": {},
   "outputs": [],
   "source": [
    "tri_neucliotides = [\"AAA\", \"AAC\", \"AAG\", \"AAT\", \"ACA\", \"ACC\", \"ACG\", \"ACT\", \"AGA\", \"AGC\", \"AGG\", \"AGT\", \"ATA\", \"ATC\", \"ATG\", \"ATT\", \"CAA\", \n",
    "                    \"CAC\", \"CAG\", \"CAT\", \"CCA\", \"CCC\", \"CCG\", \"CCT\", \"CGA\", \"CGC\",\"CGG\", \"CGT\", \"CTA\", \"CTC\", \"CTG\", \"CTT\", \"GAA\", \"GAC\", \"GAG\",\n",
    "                     \"GAT\", \"GCA\", \"GCC\", \"GCG\", \"GCT\", \"GGA\", \"GGC\", \"GGG\", \"GGT\", \"GTA\", \"GTC\", \"GTG\", \"GTT\", \"TAA\", \"TAC\", \"TAG\", \"TAT\",\n",
    "                     \"TCA\", \"TCC\", \"TCG\", \"TCT\", \"TGA\", \"TGC\", \"TGG\", \"TGT\", \"TTA\", \"TTC\", \"TTG\", \"TTT\"]\n",
    "\n",
    "for tri_neucliotide in tri_neucliotides:\n",
    "    feature_name = tri_neucliotide + '_Count'\n",
    "    values = []\n",
    "    for j in range(df.shape[0]):\n",
    "        sequence = df.iloc[j,1]\n",
    "        count = sequence.count(tri_neucliotide)\n",
    "        values.append(count)\n",
    "    df[feature_name] = values"
   ]
  },
  {
   "cell_type": "code",
   "execution_count": null,
   "metadata": {},
   "outputs": [],
   "source": [
    "df.head()"
   ]
  },
  {
   "cell_type": "markdown",
   "metadata": {},
   "source": [
    "# Feature Creation 256\n",
    "From each sgRNA Sequence find occurrence of individual tetra_neucliotides"
   ]
  },
  {
   "cell_type": "code",
   "execution_count": null,
   "metadata": {},
   "outputs": [],
   "source": [
    "tetra_neucliotides = [\"AAAA\", \"AAAC\", \"AAAG\", \"AAAT\", \"AACA\", \"AACC\", \"AACG\", \"AACT\", \"AAGA\", \"AAGC\", \"AAGG\", \"AAGT\", \"AATA\", \"AATC\", \"AATG\",\n",
    "                        \"AATT\", \"ACAA\", \"ACAC\", \"ACAG\", \"ACAT\", \"ACCA\", \"ACCC\", \"ACCG\", \"ACCT\", \"ACGA\", \"ACGC\", \"ACGG\", \"ACGT\", \"ACTA\", \"ACTC\",\n",
    "                        \"ACTG\", \"ACTT\", \"AGAA\", \"AGAC\", \"AGAG\", \"AGAT\", \"AGCA\", \"AGCC\", \"AGCG\", \"AGCT\", \"AGGA\", \"AGGC\", \"AGGG\", \"AGGT\", \"AGTA\",\n",
    "                        \"AGTC\", \"AGTG\", \"AGTT\", \"ATAA\", \"ATAC\", \"ATAG\", \"ATAT\", \"ATCA\", \"ATCC\", \"ATCG\", \"ATCT\", \"ATGA\", \"ATGC\", \"ATGG\", \"ATGT\",\n",
    "                        \"ATTA\", \"ATTC\", \"ATTG\", \"ATTT\", \"CAAA\", \"CAAC\", \"CAAG\", \"CAAT\", \"CACA\", \"CACC\", \"CACG\", \"CACT\", \"CAGA\", \"CAGC\", \"CAGG\",\n",
    "                        \"CAGT\", \"CATA\", \"CATC\", \"CATG\", \"CATT\", \"CCAA\", \"CCAC\", \"CCAG\", \"CCAT\", \"CCCA\", \"CCCC\", \"CCCG\", \"CCCT\", \"CCGA\", \"CCGC\",\n",
    "                        \"CCGG\",\"CCGT\", \"CCTA\", \"CCTC\", \"CCTG\", \"CCTT\", \"CGAA\", \"CGAC\", \"CGAG\", \"CGAT\", \"CGCA\", \"CGCC\", \"CGCG\", \"CGCT\", \"CGGA\",\n",
    "                        \"CGGC\", \"CGGG\", \"CGGT\", \"CGTA\", \"CGTC\", \"CGTG\", \"CGTT\", \"CTAA\", \"CTAC\", \"CTAG\", \"CTAT\", \"CTCA\", \"CTCC\", \"CTCG\", \"CTCT\",\n",
    "                        \"CTGA\", \"CTGC\", \"CTGG\", \"CTGT\", \"CTTA\", \"CTTC\", \"CTTG\", \"CTTT\", \"GAAA\", \"GAAC\", \"GAAG\", \"GAAT\", \"GACA\", \"GACC\", \"GACG\",\n",
    "                        \"GACT\", \"GAGA\", \"GAGC\", \"GAGG\", \"GAGT\", \"GATA\", \"GATC\", \"GATG\", \"GATT\", \"GCAA\", \"GCAC\", \"GCAG\", \"GCAT\", \"GCCA\", \"GCCC\",\n",
    "                        \"GCCG\", \"GCCT\", \"GCGA\", \"GCGC\", \"GCGG\", \"GCGT\", \"GCTA\", \"GCTC\", \"GCTG\", \"GCTT\", \"GGAA\", \"GGAC\", \"GGAG\", \"GGAT\", \"GGCA\",\n",
    "                        \"GGCC\", \"GGCG\", \"GGCT\", \"GGGA\", \"GGGC\", \"GGGG\", \"GGGT\", \"GGTA\", \"GGTC\", \"GGTG\", \"GGTT\", \"GTAA\", \"GTAC\", \"GTAG\", \"GTAT\",\n",
    "                        \"GTCA\", \"GTCC\", \"GTCG\", \"GTCT\", \"GTGA\", \"GTGC\", \"GTGG\", \"GTGT\", \"GTTA\", \"GTTC\", \"GTTG\", \"GTTT\", \"TAAA\", \"TAAC\", \"TAAG\",\n",
    "                        \"TAAT\", \"TACA\", \"TACC\", \"TACG\", \"TACT\", \"TAGA\", \"TAGC\", \"TAGG\", \"TAGT\", \"TATA\", \"TATC\", \"TATG\", \"TATT\", \"TCAA\", \"TCAC\", \n",
    "                        \"TCAG\", \"TCAT\", \"TCCA\", \"TCCC\", \"TCCG\", \"TCCT\", \"TCGA\", \"TCGC\", \"TCGG\", \"TCGT\", \"TCTA\", \"TCTC\", \"TCTG\", \"TCTT\", \"TGAA\",\n",
    "                         \"TGAC\", \"TGAG\", \"TGAT\", \"TGCA\", \"TGCC\", \"TGCG\", \"TGCT\", \"TGGA\", \"TGGC\", \"TGGG\", \"TGGT\", \"TGTA\", \"TGTC\", \"TGTG\", \"TGTT\",\n",
    "                        \"TTAA\", \"TTAC\", \"TTAG\", \"TTAT\", \"TTCA\", \"TTCC\", \"TTCG\", \"TTCT\", \"TTGA\", \"TTGC\", \"TTGG\", \"TTGT\", \"TTTA\", \"TTTC\", \"TTTG\",\n",
    "                        \"TTTT\"]\n",
    "\n",
    "\n",
    "for tetra_neucliotide in tetra_neucliotides:\n",
    "    feature_name = tetra_neucliotide + '_Count'\n",
    "    values = []\n",
    "    for j in range(df.shape[0]):\n",
    "        sequence = df.iloc[j,1]\n",
    "        count = sequence.count(tetra_neucliotide)\n",
    "        values.append(count)\n",
    "    df[feature_name] = values"
   ]
  },
  {
   "cell_type": "code",
   "execution_count": null,
   "metadata": {},
   "outputs": [],
   "source": [
    "df.head()"
   ]
  },
  {
   "cell_type": "markdown",
   "metadata": {},
   "source": [
    "# GC Content Ratio "
   ]
  },
  {
   "cell_type": "code",
   "execution_count": null,
   "metadata": {},
   "outputs": [],
   "source": [
    "feature_name = 'GC_Content'\n",
    "values = []\n",
    "for j in range(df.shape[0]):\n",
    "    sequence = df.iloc[j,1]\n",
    "    A_count = sequence.count(\"A\")\n",
    "    C_count = sequence.count(\"C\")\n",
    "    G_count = sequence.count(\"G\")\n",
    "    T_count = sequence.count(\"T\")\n",
    "    ratio = round((G_count + C_count)/(A_count + G_count + C_count + T_count),2)\n",
    "    values.append(ratio)\n",
    "df[feature_name] = values\n",
    "df.head()"
   ]
  },
  {
   "cell_type": "markdown",
   "metadata": {},
   "source": [
    "# GC Content 10"
   ]
  },
  {
   "cell_type": "code",
   "execution_count": null,
   "metadata": {},
   "outputs": [],
   "source": [
    "feature_name = 'GC_Content_10'\n",
    "values = []\n",
    "for j in range(df.shape[0]):\n",
    "    sequence = df.iloc[j,1]\n",
    "    C_count = sequence.count(\"C\")\n",
    "    G_count = sequence.count(\"G\")\n",
    "    count = G_count + C_count\n",
    "    if count > 10:\n",
    "        values.append(1)\n",
    "    else:\n",
    "        values.append(0)\n",
    "df[feature_name] = values\n",
    "df.head()"
   ]
  },
  {
   "cell_type": "markdown",
   "metadata": {},
   "source": [
    "# FEATURE GENERATION COMPLETE"
   ]
  },
  {
   "cell_type": "code",
   "execution_count": null,
   "metadata": {},
   "outputs": [],
   "source": [
    "df.to_csv(\"Dataset.csv\",index=False)"
   ]
  }
 ],
 "metadata": {
  "kernelspec": {
   "display_name": "Python 3",
   "language": "python",
   "name": "python3"
  },
  "language_info": {
   "codemirror_mode": {
    "name": "ipython",
    "version": 3
   },
   "file_extension": ".py",
   "mimetype": "text/x-python",
   "name": "python",
   "nbconvert_exporter": "python",
   "pygments_lexer": "ipython3",
   "version": "3.7.6"
  }
 },
 "nbformat": 4,
 "nbformat_minor": 2
}
